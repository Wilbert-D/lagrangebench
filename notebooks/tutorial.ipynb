{
 "cells": [
  {
   "attachments": {},
   "cell_type": "markdown",
   "metadata": {},
   "source": [
    "# Training GNS on the 2D Taylor Green Vortex\n",
    "This tutorial notebook will show how to train a GNS model on the 2D Taylor Green Vortex. It will give a brief overview of LagrangeBench on these topics:\n",
    "- Datasets and case setup\n",
    "- Models\n",
    "- Training tricks and strategies (random-walk noise and pushforward)\n",
    "- Training and inference"
   ]
  },
  {
   "cell_type": "code",
   "execution_count": 1,
   "metadata": {},
   "outputs": [
    {
     "name": "stderr",
     "output_type": "stream",
     "text": [
      "2023-10-22 00:45:53.519258: W external/xla/xla/service/gpu/nvptx_compiler.cc:673] The NVIDIA driver's CUDA version is 12.2 which is older than the ptxas CUDA version (12.3.52). Because the driver is older than the ptxas version, XLA is disabling parallel compilation, which may slow down compilation. You should update your NVIDIA driver or use the NVIDIA-provided CUDA forward compatibility packages.\n"
     ]
    }
   ],
   "source": [
    "import os\n",
    "# os.environ['CUDA_VISIBLE_DEVICES'] = '1'\n",
    "\n",
    "import lagrangebench\n",
    "import haiku as hk\n",
    "import numpy as np\n",
    "import matplotlib.pyplot as plt\n",
    "import pickle\n",
    "import matplotlib.animation as animation"
   ]
  },
  {
   "attachments": {},
   "cell_type": "markdown",
   "metadata": {},
   "source": [
    "## Datasets\n",
    "First thing to do is to load the dataset. The simplest way to do this is by using the `lagrangebench.data.TGV2D` class. It will automatically download the HDF5 files if they are not found in the respective folder, and it will take care of setting up the dataset. Note that for the validation set `is_rollout=True`. This means that the dataset will not split the trajectory into subsequences and keep whole rollouts for evaluation."
   ]
  },
  {
   "cell_type": "code",
   "execution_count": 2,
   "metadata": {},
   "outputs": [
    {
     "name": "stdout",
     "output_type": "stream",
     "text": [
      "gpu\n"
     ]
    }
   ],
   "source": [
    "from jax.lib import xla_bridge\n",
    "print(xla_bridge.get_backend().platform)"
   ]
  },
  {
   "cell_type": "code",
   "execution_count": 3,
   "metadata": {},
   "outputs": [
    {
     "name": "stderr",
     "output_type": "stream",
     "text": [
      "Retrieving folder list\n"
     ]
    },
    {
     "name": "stdout",
     "output_type": "stream",
     "text": [
      "Processing file 1b0SFiLGz273cxA8uVg001q6yY_67Mid2 metadata.json\n",
      "Processing file 1a249Qy5YUohxV9fhMrCM9b_sO6CfujYa test.h5\n",
      "Processing file 1tPM513kE3ob__HBMmj4pvRaD766kOvAz train.h5\n",
      "Processing file 1x5GyDN-1oFeYFSnzcLK2ahXIxr0cMZnl valid.h5\n",
      "Building directory structure completed\n"
     ]
    },
    {
     "name": "stderr",
     "output_type": "stream",
     "text": [
      "Retrieving folder list completed\n",
      "Building directory structure\n",
      "Downloading...\n",
      "From: https://drive.google.com/uc?id=1b0SFiLGz273cxA8uVg001q6yY_67Mid2\n",
      "To: /home/harish/Desktop/lagrangebench/notebooks/datasets/2D_TGV_2500_10kevery100/metadata.json\n",
      "100%|██████████| 1.04k/1.04k [00:00<00:00, 7.94MB/s]\n",
      "Downloading...\n",
      "From (uriginal): https://drive.google.com/uc?id=1a249Qy5YUohxV9fhMrCM9b_sO6CfujYa\n",
      "From (redirected): https://drive.google.com/uc?id=1a249Qy5YUohxV9fhMrCM9b_sO6CfujYa&confirm=t&uuid=ce3ce8cd-9411-44ba-8f6d-a0e8956ab620\n",
      "To: /home/harish/Desktop/lagrangebench/notebooks/datasets/2D_TGV_2500_10kevery100/test.h5\n",
      "100%|██████████| 114M/114M [00:05<00:00, 20.8MB/s] \n",
      "Downloading...\n",
      "From (uriginal): https://drive.google.com/uc?id=1tPM513kE3ob__HBMmj4pvRaD766kOvAz\n",
      "From (redirected): https://drive.google.com/uc?id=1tPM513kE3ob__HBMmj4pvRaD766kOvAz&confirm=t&uuid=c79ecab9-b215-43b6-8683-cc908df11635\n",
      "To: /home/harish/Desktop/lagrangebench/notebooks/datasets/2D_TGV_2500_10kevery100/train.h5\n",
      "100%|██████████| 227M/227M [00:11<00:00, 19.3MB/s] \n",
      "Downloading...\n",
      "From (uriginal): https://drive.google.com/uc?id=1x5GyDN-1oFeYFSnzcLK2ahXIxr0cMZnl\n",
      "From (redirected): https://drive.google.com/uc?id=1x5GyDN-1oFeYFSnzcLK2ahXIxr0cMZnl&confirm=t&uuid=19b19375-bb62-4ae0-ac2c-25437a07a8f5\n",
      "To: /home/harish/Desktop/lagrangebench/notebooks/datasets/2D_TGV_2500_10kevery100/valid.h5\n",
      "100%|██████████| 114M/114M [00:07<00:00, 15.1MB/s] \n",
      "Download completed\n"
     ]
    },
    {
     "name": "stdout",
     "output_type": "stream",
     "text": [
      "This is a 2D dataset called TGV.\n",
      "Train snapshot have shape (2500, 7, 2) (n_nodes, seq_len, xy pos).\n",
      "Val snapshot have shape (2500, 126, 2) (n_nodes, rollout, xy pos).\n",
      "\n"
     ]
    }
   ],
   "source": [
    "tgv2d_train = lagrangebench.data.TGV2D(\"train\")\n",
    "tgv2d_eval = lagrangebench.data.TGV2D(\"valid\", is_rollout=True)\n",
    "\n",
    "print(\n",
    "    f\"This is a {tgv2d_train.metadata['dim']}D dataset \"\n",
    "    f\"called {tgv2d_train.metadata['case']}.\\n\"\n",
    "    f\"Train snapshot have shape {tgv2d_train[0][0].shape} (n_nodes, seq_len, xy pos).\\n\"\n",
    "    f\"Val snapshot have shape {tgv2d_eval[0][0].shape} (n_nodes, rollout, xy pos).\\n\"\n",
    ")"
   ]
  },
  {
   "attachments": {},
   "cell_type": "markdown",
   "metadata": {},
   "source": [
    "Similarly, for other datasets one can use the respective subclass, for example\n",
    "```python\n",
    "rpf_3d_data = lagrangebench.data.RPF3D(\"train\") # 3D Reverse Poiseuille Flow\n",
    "dam_2d_data = lagrangebench.data.DAM2D(\"train\") # 2D Dam break\n",
    "# etc.\n",
    "# and in general: \n",
    "lagrangebench.data.H5Dataset(\"train\", dataset_path=\"path/to/dataset\")\n",
    "```"
   ]
  },
  {
   "attachments": {},
   "cell_type": "markdown",
   "metadata": {},
   "source": [
    "## Models\n",
    "All models should inherit from [`models.BaseModel`](/lagrangebench/models/base.py), and generally include a `_transform` function for feature engineering and graph building. \n",
    "\n",
    "Here we use a small GNS model, with 16 latent dimension and 4 message passing layers and predicting 2D accelerations. Note that we use a function wrapper beause `haiku.Modules` must be initialized inside `haiku.transform`.\n"
   ]
  },
  {
   "cell_type": "code",
   "execution_count": 4,
   "metadata": {},
   "outputs": [],
   "source": [
    "def gns(x):\n",
    "    return lagrangebench.GNS(\n",
    "        particle_dimension=tgv2d_train.metadata[\"dim\"],\n",
    "        latent_size=16,\n",
    "        blocks_per_step=2,\n",
    "        num_mp_steps=4,\n",
    "        particle_type_embedding_size=8,\n",
    "    )(x)"
   ]
  },
  {
   "attachments": {},
   "cell_type": "markdown",
   "metadata": {},
   "source": [
    "Then apply `haiku.transform` to the model function"
   ]
  },
  {
   "cell_type": "code",
   "execution_count": 5,
   "metadata": {},
   "outputs": [],
   "source": [
    "gns = hk.without_apply_rng(hk.transform_with_state(gns))"
   ]
  },
  {
   "attachments": {},
   "cell_type": "markdown",
   "metadata": {},
   "source": [
    "## Training tricks and strategies\n",
    "To improve performance and stabilize training we can use a number of tricks and strategies. In this notebook we will cover random-walk noise and pushforward, which are included by default in LagrangeBench. \n",
    "\n",
    "### Random-walk noise\n",
    "Briefly, random-walk noise adds noise to the velocities in the input sequence and adjusts the target positions accordingly. The standard deviation is passed as a parameter, and each noise step is rescaled so that the cumulated noise has the input standard deviation. It applied to GNNs in physics in the [\"Learning to Simulate Complex Physics with Graph Networks\"](https://arxiv.org/abs/2002.09405) paper (2020).\n",
    "\n",
    "### Pushforward\n",
    "Instead of training always on the next step, the pushforward trick will randomly sample a number of \"unroll\" steps to perform and compute the loss only on the last one. Ideally this should inject the \"right amount\" of noise, since it comes from the physical distribution. Because it adds some overhead, the maximum number of unroll steps should not be too large and the probability of unrolling large sequences should be reasonably small. It comes from the [\"Message Passing Neural PDE Solvers\"](https://arxiv.org/pdf/2202.03376.pdf) paper (2022)."
   ]
  },
  {
   "cell_type": "code",
   "execution_count": 6,
   "metadata": {},
   "outputs": [],
   "source": [
    "noise_std = 1e-5\n",
    "\n",
    "pf_config = lagrangebench.PushforwardConfig(\n",
    "    steps=[-1, 5000, 10000],  # training steps to unlock the relative stage\n",
    "    unrolls=[0, 2, 5],  # number of unroll steps per stage\n",
    "    probs=[7, 2, 1],  # probabilities to unroll to the relative stage\n",
    ")"
   ]
  },
  {
   "attachments": {},
   "cell_type": "markdown",
   "metadata": {},
   "source": [
    "For example, this configuration would apply noise with `std=1e-5` and the pushforward trick with three unroll stages (0, 2 and 5), \"unlocking\" the second stage after 5000 training steps and the third stage after 10000 training steps. After 10000 steps, 0-step unroll (normal training) will happen with a probability of 70%, 2-step unroll with a probability of 20% and finally 5-step unroll with a probability of 10%."
   ]
  },
  {
   "attachments": {},
   "cell_type": "markdown",
   "metadata": {},
   "source": [
    "## Case\n",
    "The `CaseSetupFn` is an essential part in LagrangeBench. Most of the operations during training, such as data preprocessing, time integration for the ouput and neighbor computation are managed by `CaseSetupFn`. The easies way to initialize it is through the `lagrangebench.case_builder` function."
   ]
  },
  {
   "cell_type": "code",
   "execution_count": 7,
   "metadata": {},
   "outputs": [],
   "source": [
    "bounds = np.array(tgv2d_train.metadata[\"bounds\"])\n",
    "box = bounds[:, 1] - bounds[:, 0]\n",
    "\n",
    "tgv2d_case = lagrangebench.case_builder(\n",
    "    box=box,  # (x,y) array with the world size along each axis. (1.0, 1.0) for 2D TGV\n",
    "    metadata=tgv2d_train.metadata,  # metadata dictionary\n",
    "    input_seq_length=6,  # number of consecutive time steps fed to the model\n",
    "    isotropic_norm=False,  # whether to normalize each dimension independently\n",
    "    noise_std=noise_std,  # noise standard deviation used by the random-walk noise\n",
    ")"
   ]
  },
  {
   "attachments": {},
   "cell_type": "markdown",
   "metadata": {},
   "source": [
    "## Training and inference\n",
    "Finally, to train GNS on Taylor Green (with noise and pushforward) the `lagrangebench.Trainer` methods comes to hand"
   ]
  },
  {
   "cell_type": "code",
   "execution_count": 8,
   "metadata": {},
   "outputs": [
    {
     "name": "stdout",
     "output_type": "stream",
     "text": [
      "00000, train/loss: 1.41751.\n",
      "01000, train/loss: 0.00331.\n",
      "02000, train/loss: 0.15835.\n",
      "03000, train/loss: 0.00123.\n",
      "04000, train/loss: 0.19778.\n",
      "05000, train/loss: 1.62274.\n",
      "{'val/loss': 0.0020771375857293606, 'val/mse1': 1.7247542700715712e-06, 'val/mse5': 3.6240595363778993e-05, 'val/mse10': 0.00024540332378819585, 'val/stdloss': 0.0, 'val/stdmse1': 0.0, 'val/stdmse5': 0.0, 'val/stdmse10': 0.0}\n",
      "06000, train/loss: 0.02041.\n",
      "07000, train/loss: 0.01039.\n",
      "08000, train/loss: 0.01020.\n",
      "09000, train/loss: 1.18557.\n",
      "10000, train/loss: 0.06333.\n",
      "{'val/loss': 0.0014516240917146206, 'val/mse1': 1.6560027233936125e-06, 'val/mse5': 3.3121523301815614e-05, 'val/mse10': 0.0002024288260145113, 'val/stdloss': 0.0, 'val/stdmse1': 0.0, 'val/stdmse5': 0.0, 'val/stdmse10': 0.0}\n",
      "Reallocate neighbors list (2, 20965) at step 10125\n",
      "To list (2, 20875)\n",
      "Reallocate neighbors list (2, 20875) at step 10140\n",
      "To list (2, 20772)\n",
      "Reallocate neighbors list (2, 20772) at step 10387\n",
      "To list (2, 20797)\n",
      "Reallocate neighbors list (2, 20797) at step 10751\n",
      "To list (2, 20710)\n",
      "Reallocate neighbors list (2, 20710) at step 10812\n",
      "To list (2, 20842)\n",
      "11000, train/loss: 1.03025.\n",
      "Reallocate neighbors list (2, 20842) at step 11655\n",
      "To list (2, 20712)\n",
      "12000, train/loss: 0.00066.\n",
      "Reallocate neighbors list (2, 20712) at step 12527\n",
      "To list (2, 20712)\n",
      "13000, train/loss: 0.99403.\n",
      "Reallocate neighbors list (2, 20712) at step 13095\n",
      "To list (2, 20835)\n",
      "Reallocate neighbors list (2, 20835) at step 13164\n",
      "To list (2, 20592)\n",
      "Reallocate neighbors list (2, 20592) at step 13381\n",
      "To list (2, 20702)\n",
      "Reallocate neighbors list (2, 20702) at step 13411\n",
      "To list (2, 20695)\n",
      "Reallocate neighbors list (2, 20695) at step 13455\n",
      "To list (2, 20637)\n",
      "Reallocate neighbors list (2, 20637) at step 13661\n",
      "To list (2, 20642)\n",
      "Reallocate neighbors list (2, 20642) at step 13809\n",
      "To list (2, 20745)\n",
      "14000, train/loss: 0.00420.\n",
      "Reallocate neighbors list (2, 20745) at step 14294\n",
      "To list (2, 20872)\n",
      "Reallocate neighbors list (2, 20872) at step 14603\n",
      "To list (2, 20785)\n",
      "15000, train/loss: 0.29875.\n",
      "{'val/loss': 0.0009898801799863577, 'val/mse1': 1.6124859030242078e-06, 'val/mse5': 3.092736005783081e-05, 'val/mse10': 0.0001704619062365964, 'val/stdloss': 0.0, 'val/stdmse1': 0.0, 'val/stdmse5': 0.0, 'val/stdmse10': 0.0}\n",
      "Reallocate neighbors list (2, 20785) at step 15191\n",
      "To list (2, 20785)\n",
      "16000, train/loss: 0.00215.\n",
      "Reallocate neighbors list (2, 20785) at step 16072\n",
      "To list (2, 20882)\n",
      "Reallocate neighbors list (2, 20882) at step 16735\n",
      "To list (2, 20710)\n",
      "17000, train/loss: 0.00154.\n",
      "Reallocate neighbors list (2, 20710) at step 17358\n",
      "To list (2, 20637)\n",
      "Reallocate neighbors list (2, 20637) at step 17677\n",
      "To list (2, 20657)\n",
      "18000, train/loss: 0.00153.\n",
      "Reallocate neighbors list (2, 20657) at step 18062\n",
      "To list (2, 20905)\n",
      "Reallocate neighbors list (2, 20905) at step 18236\n",
      "To list (2, 20740)\n",
      "19000, train/loss: 0.04360.\n",
      "Reallocate neighbors list (2, 20740) at step 19035\n",
      "To list (2, 20755)\n",
      "Reallocate neighbors list (2, 20755) at step 19526\n",
      "To list (2, 20687)\n",
      "20000, train/loss: 0.00081.\n",
      "{'val/loss': 0.0018224252853542566, 'val/mse1': 1.6633879340588464e-06, 'val/mse5': 3.7307185266399756e-05, 'val/mse10': 0.0002504989970475435, 'val/stdloss': 0.0, 'val/stdmse1': 0.0, 'val/stdmse5': 0.0, 'val/stdmse10': 0.0}\n",
      "Reallocate neighbors list (2, 20687) at step 20002\n",
      "To list (2, 20822)\n",
      "Reallocate neighbors list (2, 20822) at step 20163\n",
      "To list (2, 20660)\n",
      "21000, train/loss: 1.02800.\n",
      "Reallocate neighbors list (2, 20660) at step 21543\n",
      "To list (2, 20692)\n",
      "22000, train/loss: 0.00151.\n",
      "Reallocate neighbors list (2, 20692) at step 22023\n",
      "To list (2, 20727)\n",
      "23000, train/loss: 0.05668.\n",
      "Reallocate neighbors list (2, 20727) at step 23021\n",
      "To list (2, 20722)\n",
      "Reallocate neighbors list (2, 20722) at step 23077\n",
      "To list (2, 20735)\n",
      "Reallocate neighbors list (2, 20735) at step 23553\n",
      "To list (2, 20710)\n",
      "24000, train/loss: 0.00163.\n",
      "Reallocate neighbors list (2, 20710) at step 24930\n",
      "To list (2, 20637)\n",
      "25000, train/loss: 0.03117.\n",
      "{'val/loss': 0.0015288622817024589, 'val/mse1': 1.6014873835956678e-06, 'val/mse5': 3.5528555599739775e-05, 'val/mse10': 0.00022658095986116678, 'val/stdloss': 0.0, 'val/stdmse1': 0.0, 'val/stdmse5': 0.0, 'val/stdmse10': 0.0}\n"
     ]
    }
   ],
   "source": [
    "trainer = lagrangebench.Trainer(\n",
    "    model=gns,\n",
    "    case=tgv2d_case,\n",
    "    data_train=tgv2d_train,\n",
    "    data_eval=tgv2d_eval,\n",
    "    pushforward=pf_config,\n",
    "    noise_std=noise_std,\n",
    "    metrics=[\"mse\"],\n",
    "    n_rollout_steps=20,\n",
    "    eval_n_trajs=1,\n",
    "    lr_start=5e-4,\n",
    "    log_steps=1000,\n",
    "    eval_steps=5000,\n",
    ")\n",
    "\n",
    "params, state, _ = trainer(step_max=25000)"
   ]
  },
  {
   "attachments": {},
   "cell_type": "markdown",
   "metadata": {},
   "source": [
    "Now let's see what the trained GNS can do. First, let's get the test data. As for the validation set, `is_rollout=True` so that the dataset does not split the trajectory into subsequences."
   ]
  },
  {
   "cell_type": "code",
   "execution_count": 9,
   "metadata": {},
   "outputs": [],
   "source": [
    "tgv2d_test = lagrangebench.TGV2D(\"test\", is_rollout=True)"
   ]
  },
  {
   "attachments": {},
   "cell_type": "markdown",
   "metadata": {},
   "source": [
    "Then let's run then evaluation over 20 timesteps. Here we use three evaluation metrics: __position MSE__ and __Sinkhorn__ distance."
   ]
  },
  {
   "cell_type": "code",
   "execution_count": 10,
   "metadata": {},
   "outputs": [],
   "source": [
    "metrics = lagrangebench.infer(\n",
    "    gns,\n",
    "    tgv2d_case,\n",
    "    tgv2d_test,\n",
    "    params,\n",
    "    state,\n",
    "    metrics=[\"mse\", \"sinkhorn\"],\n",
    "    eval_n_trajs=1,\n",
    "    n_rollout_steps=20,\n",
    "    rollout_dir=\"rollouts/\",\n",
    "    out_type=\"pkl\",\n",
    ")[\"rollout_0\"]\n",
    "rollout = pickle.load(open(\"rollouts/rollout_0.pkl\", \"rb\"))"
   ]
  },
  {
   "cell_type": "code",
   "execution_count": 11,
   "metadata": {},
   "outputs": [
    {
     "data": {
      "image/png": "[encoded data removed]",
      "text/plain": [
       "<Figure size 1200x400 with 2 Axes>"
      ]
     },
     "metadata": {},
     "output_type": "display_data"
    }
   ],
   "source": [
    "# plot metrics\n",
    "fig, ax = plt.subplots(1, 2, figsize=(12, 4))\n",
    "\n",
    "# plot the metrics\n",
    "for i, m in enumerate([\"mse\", \"sinkhorn\"]):\n",
    "    ax[i].plot(metrics[m])\n",
    "    ax[i].set_title(m)"
   ]
  },
  {
   "cell_type": "code",
   "execution_count": 12,
   "metadata": {},
   "outputs": [
    {
     "name": "stdout",
     "output_type": "stream",
     "text": [
      "rollout of shape (26, 2500, 2) (steps, nodes, xy pos)\n"
     ]
    },
    {
     "data": {
      "text/html": [
       "<img src=\"media/scatter.gif\"/>"
      ],
      "text/plain": [
       "<IPython.core.display.Image object>"
      ]
     },
     "execution_count": 12,
     "metadata": {},
     "output_type": "execute_result"
    }
   ],
   "source": [
    "print(f\"rollout of shape {rollout['predicted_rollout'].shape} (steps, nodes, xy pos)\")\n",
    "\n",
    "fig, ax = plt.subplots(1, 2)\n",
    "ax[0].set_xlim([0, 1.0])\n",
    "ax[0].set_ylim([0, 1.0])\n",
    "ax[1].set_xlim([0, 1.0])\n",
    "ax[1].set_ylim([0, 1.0])\n",
    "fig.set_size_inches(10, 5, forward=True)\n",
    "ax[0].set_title(\"GNS\")\n",
    "ax[1].set_title(\"Ground Truth\")\n",
    "\n",
    "rollout_len = rollout[\"predicted_rollout\"].shape[0] - 1\n",
    "\n",
    "scat0 = ax[0].scatter(\n",
    "    rollout[\"predicted_rollout\"][0, :, 0], rollout[\"predicted_rollout\"][0, :, 1]\n",
    ")\n",
    "scat1 = ax[1].scatter(\n",
    "    rollout[\"ground_truth_rollout\"][0, :, 0], rollout[\"ground_truth_rollout\"][0, :, 1]\n",
    ")\n",
    "\n",
    "\n",
    "def animate(i):\n",
    "    scat0.set_offsets(rollout[\"predicted_rollout\"][i])\n",
    "    scat1.set_offsets(rollout[\"ground_truth_rollout\"][i])\n",
    "    return scat0, scat1\n",
    "\n",
    "\n",
    "ani = animation.FuncAnimation(\n",
    "    fig, animate, repeat=True, frames=rollout_len, interval=50\n",
    ")\n",
    "\n",
    "plt.close(fig)\n",
    "\n",
    "writer = animation.PillowWriter(fps=10, metadata=dict(artist=\"Me\"), bitrate=1800)\n",
    "ani.save(\"media/scatter.gif\", writer=writer)\n",
    "\n",
    "from IPython.display import Image\n",
    "\n",
    "Image(url=\"media/scatter.gif\")"
   ]
  }
 ],
 "metadata": {
  "kernelspec": {
   "display_name": ".venv",
   "language": "python",
   "name": "python3"
  },
  "language_info": {
   "codemirror_mode": {
    "name": "ipython",
    "version": 3
   },
   "file_extension": ".py",
   "mimetype": "text/x-python",
   "name": "python",
   "nbconvert_exporter": "python",
   "pygments_lexer": "ipython3",
   "version": "3.10.12"
  },
  "orig_nbformat": 4
 },
 "nbformat": 4,
 "nbformat_minor": 2
}
